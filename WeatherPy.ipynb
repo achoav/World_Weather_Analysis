{
 "cells": [
  {
   "cell_type": "code",
   "execution_count": 1,
   "metadata": {},
   "outputs": [],
   "source": [
    "import random"
   ]
  },
  {
   "cell_type": "code",
   "execution_count": 2,
   "metadata": {},
   "outputs": [],
   "source": [
    "random.randint(-90,90)"
   ]
  },
  {
   "cell_type": "code",
   "execution_count": 3,
   "metadata": {},
   "outputs": [],
   "source": [
    "# 6.1.4\n",
    "# Import the dependencies.\n",
    "import pandas as pd\n",
    "import matplotlib.pyplot as plt\n",
    "import numpy as np\n",
    "import timeit\n",
    "\n",
    "# Import the requests library.\n",
    "from config import weather_api_key\n",
    "# Import the datetime module from the datetime library.\n",
    "from datetime import datetime\n",
    "# Use the citipy module to determine city based on latitude and longitude.\n",
    "from citipy import citipy\n",
    "# Import the time module.\n",
    "import time\n",
    "# Import linear regression from the SciPy stats module.\n",
    "from scipy.stats import linregress"
   ]
  },
  {
   "cell_type": "code",
   "execution_count": 4,
   "metadata": {},
   "outputs": [
    {
     "data": {
      "text/plain": [
       "<zip at 0x2d109a99a80>"
      ]
     },
     "execution_count": 4,
     "metadata": {},
     "output_type": "execute_result"
    }
   ],
   "source": [
    "# Create a set of random latitude and longitude combinations.\n",
    "lats = np.random.uniform(low=-90.000, high=90.000, size=50)\n",
    "lngs = np.random.uniform(low=-180.000, high=180.000, size=50)\n",
    "lat_lngs = zip(lats, lngs)\n",
    "lat_lngs"
   ]
  },
  {
   "cell_type": "code",
   "execution_count": 5,
   "metadata": {},
   "outputs": [],
   "source": [
    "# Print the coordinates of the cities.\n",
    "coordinates = list(lat_lngs)\n",
    "#print(coordinates)"
   ]
  },
  {
   "cell_type": "code",
   "execution_count": 6,
   "metadata": {},
   "outputs": [],
   "source": [
    "# 6.1.5 Use the citipy module to determine city based on latitude and longitude.\n",
    "from citipy import citipy"
   ]
  },
  {
   "cell_type": "code",
   "execution_count": 7,
   "metadata": {},
   "outputs": [
    {
     "name": "stdout",
     "output_type": "stream",
     "text": [
      "mataura pf\n",
      "bilma ne\n",
      "invermere ca\n",
      "minot us\n",
      "kaitangata nz\n",
      "ammon us\n",
      "gornopravdinsk ru\n",
      "qaanaaq gl\n",
      "norman wells ca\n",
      "muravlenko ru\n",
      "mahadday weyne so\n",
      "ushuaia ar\n",
      "yellowknife ca\n",
      "hobart au\n",
      "hermanus za\n",
      "provideniya ru\n",
      "new norfolk au\n",
      "punta arenas cl\n",
      "houma us\n",
      "karacakoy tr\n",
      "jamestown sh\n",
      "port alfred za\n",
      "cajamarca pe\n",
      "amderma ru\n",
      "cervo es\n",
      "chokurdakh ru\n",
      "kruisfontein za\n",
      "gryazovets ru\n",
      "darab ir\n",
      "itapaci br\n",
      "kapaa us\n",
      "puerto ayora ec\n",
      "yeppoon au\n",
      "rikitea pf\n",
      "ukiah us\n",
      "ribeira grande pt\n",
      "claver ph\n",
      "chipiona es\n",
      "lorengau pg\n",
      "vila velha br\n",
      "pevek ru\n",
      "pacific grove us\n",
      "punta arenas cl\n",
      "jamestown sh\n",
      "constantine dz\n",
      "tuktoyaktuk ca\n",
      "rikitea pf\n",
      "puerto ayora ec\n",
      "tasiilaq gl\n",
      "zlobin by\n"
     ]
    }
   ],
   "source": [
    "# Use the tuple() function to display the latitude and longitude combinations.\n",
    "for coordinate in coordinates:\n",
    "    print(citipy.nearest_city(coordinate[0], coordinate[1]).city_name,\n",
    "          citipy.nearest_city(coordinate[0], coordinate[1]).country_code)"
   ]
  },
  {
   "cell_type": "code",
   "execution_count": 8,
   "metadata": {},
   "outputs": [
    {
     "data": {
      "text/plain": [
       "46"
      ]
     },
     "execution_count": 8,
     "metadata": {},
     "output_type": "execute_result"
    }
   ],
   "source": [
    "# Create a list for holding the cities. All cities will be retained on \"cities\"\n",
    "cities = []\n",
    "# Identify the nearest city for each latitude and longitude combination.\n",
    "for coordinate in coordinates:\n",
    "    city = citipy.nearest_city(coordinate[0], coordinate[1]).city_name\n",
    "\n",
    "    # If the city is unique, then we will add it to the cities list.\n",
    "    if city not in cities:\n",
    "        cities.append(city)\n",
    "# Print the city count to confirm sufficient count.\n",
    "len(cities)"
   ]
  },
  {
   "cell_type": "code",
   "execution_count": 9,
   "metadata": {},
   "outputs": [
    {
     "data": {
      "text/plain": [
       "'2.24.0'"
      ]
     },
     "execution_count": 9,
     "metadata": {},
     "output_type": "execute_result"
    }
   ],
   "source": [
    "import requests\n",
    "requests.__version__"
   ]
  },
  {
   "cell_type": "code",
   "execution_count": 10,
   "metadata": {},
   "outputs": [
    {
     "data": {
      "text/plain": [
       "'f8e0c6b3a91b558ace7bc49dd942419a'"
      ]
     },
     "execution_count": 10,
     "metadata": {},
     "output_type": "execute_result"
    }
   ],
   "source": [
    "# Import the API key.\n",
    "from config import weather_api_key\n",
    "weather_api_key"
   ]
  },
  {
   "cell_type": "code",
   "execution_count": 11,
   "metadata": {},
   "outputs": [
    {
     "name": "stdout",
     "output_type": "stream",
     "text": [
      "http://api.openweathermap.org/data/2.5/weather?units=Imperial&APPID=f8e0c6b3a91b558ace7bc49dd942419a\n"
     ]
    }
   ],
   "source": [
    "# 6.2.2 Getting Started with API. Starting URL for Weather Map API Call.\n",
    "# api.openweathermap.org/data/2.5/weather?q={city name}&appid={API key}\n",
    "url = \"http://api.openweathermap.org/data/2.5/weather?units=Imperial&APPID=\" + weather_api_key\n",
    "print(url)"
   ]
  },
  {
   "cell_type": "code",
   "execution_count": 12,
   "metadata": {},
   "outputs": [],
   "source": [
    "# Create an endpoint URL for a city. For example city = 'Boston'\n",
    "#city = 'Boston'\n",
    "#city_url = url + \"&q=\" + city\n",
    "#print(city_url)"
   ]
  },
  {
   "cell_type": "code",
   "execution_count": 13,
   "metadata": {},
   "outputs": [],
   "source": [
    "# 6.2.3 Make an API call. Make a 'Get' request for the city weather.\n",
    "#city_weather = requests.get(city_url)\n",
    "#city_json = city_weather.json()\n",
    "#city_json.keys()"
   ]
  },
  {
   "cell_type": "code",
   "execution_count": 14,
   "metadata": {},
   "outputs": [],
   "source": [
    "#city_json.get('main')"
   ]
  },
  {
   "cell_type": "code",
   "execution_count": 15,
   "metadata": {},
   "outputs": [],
   "source": [
    "# Get the text of the 'Get' request.\n",
    "#city_weather.text"
   ]
  },
  {
   "cell_type": "code",
   "execution_count": 16,
   "metadata": {},
   "outputs": [],
   "source": [
    "# Get the JSON of the 'Get' request.\n",
    "#city_weather.json"
   ]
  },
  {
   "cell_type": "code",
   "execution_count": 17,
   "metadata": {},
   "outputs": [],
   "source": [
    "# 6.2.4 Handle request errors. Retrieve a Response Using the get() Method. Create an endpoint URL for a city.\n",
    "#city = \"Boston\"\n",
    "#city_url = url + \"&q=\" + city\n",
    "#city_weather = requests.get(city_url)\n",
    "#if city_weather.status_code == 200:\n",
    "#    print(f\"City Weather found.\")\n",
    "#else:\n",
    "#    print(f\"City weather not found.\")"
   ]
  },
  {
   "cell_type": "code",
   "execution_count": 18,
   "metadata": {},
   "outputs": [],
   "source": [
    "# 6.2.5 Get data from a response. Create an endpoint URL for a city. The output for this code is City weather found.\n",
    "# With JSON method is a lot easier to see the overall structure of the data\n",
    "#city_url = url + \"&q=\" + \"Boston\"\n",
    "#city_weather = requests.get(city_url)\n",
    "#city_weather.json()"
   ]
  },
  {
   "cell_type": "code",
   "execution_count": 19,
   "metadata": {},
   "outputs": [],
   "source": [
    "# 6.2.5 Get the JSON data.\n",
    "#boston_data = city_weather.json()"
   ]
  },
  {
   "cell_type": "code",
   "execution_count": 20,
   "metadata": {},
   "outputs": [],
   "source": [
    "#boston_data['sys']"
   ]
  },
  {
   "cell_type": "code",
   "execution_count": 21,
   "metadata": {},
   "outputs": [],
   "source": [
    "# 6.2.5 Get the country for Boston\n",
    "#boston_data['sys']['country']"
   ]
  },
  {
   "cell_type": "code",
   "execution_count": 22,
   "metadata": {},
   "outputs": [],
   "source": [
    "# 6.2.5 Get the latitude for Boston\n",
    "#boston_data['coord']['lat']"
   ]
  },
  {
   "cell_type": "code",
   "execution_count": 23,
   "metadata": {},
   "outputs": [],
   "source": [
    "# 6.2.5 Get the maximum temperature\n",
    "#boston_data['main']['temp_max']"
   ]
  },
  {
   "cell_type": "code",
   "execution_count": 24,
   "metadata": {},
   "outputs": [],
   "source": [
    "#lat = boston_data[\"coord\"][\"lat\"]\n",
    "#lng = boston_data[\"coord\"][\"lon\"]\n",
    "#max_temp = boston_data[\"main\"][\"temp_max\"]\n",
    "#humidity = boston_data[\"main\"][\"humidity\"]\n",
    "#clouds = boston_data[\"clouds\"][\"all\"]\n",
    "#wind = boston_data[\"wind\"][\"speed\"]\n",
    "#print(lat, lng, max_temp, humidity, clouds, wind)"
   ]
  },
  {
   "cell_type": "code",
   "execution_count": 25,
   "metadata": {},
   "outputs": [],
   "source": [
    "# 6.2.5 Convert the Data Timestamp. \n",
    "# Import the datetime module from the datetime library.\n",
    "#from datetime import datetime\n",
    "# Get the date from the JSON file.\n",
    "#date = boston_data[\"dt\"]\n",
    "# Convert the UTC date to a date format with year, month, day, hours, minutes, and seconds. strftime('%Y-%m-%d %H:%M:%S')\n",
    "#datetime.utcfromtimestamp(date)"
   ]
  },
  {
   "cell_type": "code",
   "execution_count": 26,
   "metadata": {},
   "outputs": [],
   "source": [
    "#datetime.utcfromtimestamp(date).strftime('%Y-%m-%d %H:%M:%S')"
   ]
  },
  {
   "cell_type": "code",
   "execution_count": 27,
   "metadata": {},
   "outputs": [],
   "source": [
    "# 6.2.6 Get the City Weather Data. Import the datetime module from the datetime library.\n",
    "from datetime import datetime"
   ]
  },
  {
   "cell_type": "code",
   "execution_count": 28,
   "metadata": {},
   "outputs": [
    {
     "name": "stdout",
     "output_type": "stream",
     "text": [
      "Beginning Data Retrieval     \n",
      "-----------------------------\n",
      "Processing Record 1 of Set 1 | mataura\n",
      "Processing Record 2 of Set 1 | bilma\n",
      "Processing Record 3 of Set 1 | invermere\n",
      "Processing Record 4 of Set 1 | minot\n",
      "Processing Record 5 of Set 1 | kaitangata\n",
      "Processing Record 6 of Set 1 | ammon\n",
      "Processing Record 7 of Set 1 | gornopravdinsk\n",
      "Processing Record 8 of Set 1 | qaanaaq\n",
      "Processing Record 9 of Set 1 | norman wells\n",
      "Processing Record 10 of Set 1 | muravlenko\n",
      "Processing Record 11 of Set 1 | mahadday weyne\n",
      "Something went wrong on city: mahadday weyne\n",
      "Processing Record 12 of Set 1 | ushuaia\n",
      "Processing Record 13 of Set 1 | yellowknife\n",
      "Processing Record 14 of Set 1 | hobart\n",
      "Processing Record 15 of Set 1 | hermanus\n",
      "Processing Record 16 of Set 1 | provideniya\n",
      "Processing Record 17 of Set 1 | new norfolk\n",
      "Processing Record 18 of Set 1 | punta arenas\n",
      "Processing Record 19 of Set 1 | houma\n",
      "Processing Record 20 of Set 1 | karacakoy\n",
      "Processing Record 21 of Set 1 | jamestown\n",
      "Processing Record 22 of Set 1 | port alfred\n",
      "Processing Record 23 of Set 1 | cajamarca\n",
      "Processing Record 24 of Set 1 | amderma\n",
      "Something went wrong on city: amderma\n",
      "Processing Record 25 of Set 1 | cervo\n",
      "Processing Record 26 of Set 1 | chokurdakh\n",
      "Processing Record 27 of Set 1 | kruisfontein\n",
      "Processing Record 28 of Set 1 | gryazovets\n",
      "Processing Record 29 of Set 1 | darab\n",
      "Processing Record 30 of Set 1 | itapaci\n",
      "Processing Record 31 of Set 1 | kapaa\n",
      "Processing Record 32 of Set 1 | puerto ayora\n",
      "Processing Record 33 of Set 1 | yeppoon\n",
      "Processing Record 34 of Set 1 | rikitea\n",
      "Processing Record 35 of Set 1 | ukiah\n",
      "Processing Record 36 of Set 1 | ribeira grande\n",
      "Processing Record 37 of Set 1 | claver\n",
      "Processing Record 38 of Set 1 | chipiona\n",
      "Processing Record 39 of Set 1 | lorengau\n",
      "Processing Record 40 of Set 1 | vila velha\n",
      "Processing Record 41 of Set 1 | pevek\n",
      "Processing Record 42 of Set 1 | pacific grove\n",
      "Processing Record 43 of Set 1 | constantine\n",
      "Processing Record 44 of Set 1 | tuktoyaktuk\n",
      "Processing Record 45 of Set 1 | tasiilaq\n",
      "Processing Record 46 of Set 1 | zlobin\n",
      "-----------------------------\n",
      "Data Retrieval Complete      \n",
      "-----------------------------\n"
     ]
    }
   ],
   "source": [
    "# 6.2.6 Create an empty list to hold the weather data.\n",
    "city_data = []\n",
    "# Print the beginning of the logging.\n",
    "print(\"Beginning Data Retrieval     \")\n",
    "print(\"-----------------------------\")\n",
    "\n",
    "# Create counters.\n",
    "record_count = 1\n",
    "set_count = 1\n",
    "\n",
    "# 6.2.6 Loop through all the cities in our list. And Build the Cuty URL\n",
    "\n",
    "for i, city in enumerate(cities):\n",
    "\n",
    "    # Group cities in sets of 50 for logging purposes.\n",
    "    if (i % 50 == 0 and i >= 50):\n",
    "        set_count += 1\n",
    "        record_count = 1\n",
    "    # Create endpoint URL with each city.\n",
    "    city_url = url + \"&q=\" + city.replace(\" \",\"+\")\n",
    "\n",
    "    # Log the URL, record, and set numbers and the city.\n",
    "    print(f\"Processing Record {record_count} of Set {set_count} | {city}\")\n",
    "    # Add 1 to the record count.\n",
    "    record_count += 1\n",
    "\n",
    "# 6.2.6 Handle API Request Errors with try-except Blocks\n",
    "# Run an API request for each of the cities.\n",
    "    try:\n",
    "        # Parse the JSON and retrieve data.\n",
    "        city_weather = requests.get(city_url).json()\n",
    "        # Parse out the needed data.\n",
    "        city_lat = city_weather[\"coord\"][\"lat\"]\n",
    "        city_lng = city_weather[\"coord\"][\"lon\"]\n",
    "        city_max_temp = city_weather[\"main\"][\"temp_max\"]\n",
    "        city_humidity = city_weather[\"main\"][\"humidity\"]\n",
    "        city_clouds = city_weather[\"clouds\"][\"all\"]\n",
    "        city_wind = city_weather[\"wind\"][\"speed\"]\n",
    "        city_country = city_weather[\"sys\"][\"country\"]\n",
    "        # Convert the date to ISO standard.\n",
    "        city_date = datetime.utcfromtimestamp(city_weather[\"dt\"]).strftime('%Y-%m-%d %H:%M:%S')\n",
    "        # Append the city information into city_data list.\n",
    "        city_data.append({\"City\": city.title(),\n",
    "                          \"Lat\": city_lat,\n",
    "                          \"Lng\": city_lng,\n",
    "                          \"Max Temp\": city_max_temp,\n",
    "                          \"Humidity\": city_humidity,\n",
    "                          \"Cloudiness\": city_clouds,\n",
    "                          \"Wind Speed\": city_wind,\n",
    "                          \"Country\": city_country,\n",
    "                          \"Date\": city_date})\n",
    "\n",
    "# If an error is experienced, skip the city.\n",
    "    except:\n",
    "        print(\"Something went wrong on city: \" + city)\n",
    "        pass\n",
    "    \n",
    "# Indicate that Data Loading is complete.\n",
    "print(\"-----------------------------\")\n",
    "print(\"Data Retrieval Complete      \")\n",
    "print(\"-----------------------------\") \n",
    "    "
   ]
  },
  {
   "cell_type": "code",
   "execution_count": 29,
   "metadata": {},
   "outputs": [
    {
     "data": {
      "text/html": [
       "<div>\n",
       "<style scoped>\n",
       "    .dataframe tbody tr th:only-of-type {\n",
       "        vertical-align: middle;\n",
       "    }\n",
       "\n",
       "    .dataframe tbody tr th {\n",
       "        vertical-align: top;\n",
       "    }\n",
       "\n",
       "    .dataframe thead th {\n",
       "        text-align: right;\n",
       "    }\n",
       "</style>\n",
       "<table border=\"1\" class=\"dataframe\">\n",
       "  <thead>\n",
       "    <tr style=\"text-align: right;\">\n",
       "      <th></th>\n",
       "      <th>City</th>\n",
       "      <th>Lat</th>\n",
       "      <th>Lng</th>\n",
       "      <th>Max Temp</th>\n",
       "      <th>Humidity</th>\n",
       "      <th>Cloudiness</th>\n",
       "      <th>Wind Speed</th>\n",
       "      <th>Country</th>\n",
       "      <th>Date</th>\n",
       "    </tr>\n",
       "  </thead>\n",
       "  <tbody>\n",
       "    <tr>\n",
       "      <th>0</th>\n",
       "      <td>Mataura</td>\n",
       "      <td>-46.1927</td>\n",
       "      <td>168.8643</td>\n",
       "      <td>60.01</td>\n",
       "      <td>72</td>\n",
       "      <td>66</td>\n",
       "      <td>11.01</td>\n",
       "      <td>NZ</td>\n",
       "      <td>2021-01-08 01:20:05</td>\n",
       "    </tr>\n",
       "    <tr>\n",
       "      <th>1</th>\n",
       "      <td>Bilma</td>\n",
       "      <td>18.6853</td>\n",
       "      <td>12.9164</td>\n",
       "      <td>72.79</td>\n",
       "      <td>20</td>\n",
       "      <td>0</td>\n",
       "      <td>5.88</td>\n",
       "      <td>NE</td>\n",
       "      <td>2021-01-08 01:20:05</td>\n",
       "    </tr>\n",
       "    <tr>\n",
       "      <th>2</th>\n",
       "      <td>Invermere</td>\n",
       "      <td>50.5167</td>\n",
       "      <td>-116.0354</td>\n",
       "      <td>25.00</td>\n",
       "      <td>88</td>\n",
       "      <td>28</td>\n",
       "      <td>1.34</td>\n",
       "      <td>CA</td>\n",
       "      <td>2021-01-08 01:20:05</td>\n",
       "    </tr>\n",
       "    <tr>\n",
       "      <th>3</th>\n",
       "      <td>Minot</td>\n",
       "      <td>48.2325</td>\n",
       "      <td>-101.2963</td>\n",
       "      <td>33.80</td>\n",
       "      <td>75</td>\n",
       "      <td>90</td>\n",
       "      <td>3.44</td>\n",
       "      <td>US</td>\n",
       "      <td>2021-01-08 01:15:38</td>\n",
       "    </tr>\n",
       "    <tr>\n",
       "      <th>4</th>\n",
       "      <td>Kaitangata</td>\n",
       "      <td>-46.2817</td>\n",
       "      <td>169.8464</td>\n",
       "      <td>57.99</td>\n",
       "      <td>64</td>\n",
       "      <td>49</td>\n",
       "      <td>8.99</td>\n",
       "      <td>NZ</td>\n",
       "      <td>2021-01-08 01:20:05</td>\n",
       "    </tr>\n",
       "    <tr>\n",
       "      <th>5</th>\n",
       "      <td>Ammon</td>\n",
       "      <td>43.4696</td>\n",
       "      <td>-111.9666</td>\n",
       "      <td>30.99</td>\n",
       "      <td>93</td>\n",
       "      <td>90</td>\n",
       "      <td>5.75</td>\n",
       "      <td>US</td>\n",
       "      <td>2021-01-08 01:20:06</td>\n",
       "    </tr>\n",
       "    <tr>\n",
       "      <th>6</th>\n",
       "      <td>Gornopravdinsk</td>\n",
       "      <td>60.0500</td>\n",
       "      <td>69.9000</td>\n",
       "      <td>-5.22</td>\n",
       "      <td>90</td>\n",
       "      <td>100</td>\n",
       "      <td>8.46</td>\n",
       "      <td>RU</td>\n",
       "      <td>2021-01-08 01:20:07</td>\n",
       "    </tr>\n",
       "    <tr>\n",
       "      <th>7</th>\n",
       "      <td>Qaanaaq</td>\n",
       "      <td>77.4840</td>\n",
       "      <td>-69.3632</td>\n",
       "      <td>-13.38</td>\n",
       "      <td>72</td>\n",
       "      <td>100</td>\n",
       "      <td>8.97</td>\n",
       "      <td>GL</td>\n",
       "      <td>2021-01-08 01:20:07</td>\n",
       "    </tr>\n",
       "    <tr>\n",
       "      <th>8</th>\n",
       "      <td>Norman Wells</td>\n",
       "      <td>65.2820</td>\n",
       "      <td>-126.8329</td>\n",
       "      <td>-7.60</td>\n",
       "      <td>84</td>\n",
       "      <td>1</td>\n",
       "      <td>5.75</td>\n",
       "      <td>CA</td>\n",
       "      <td>2021-01-08 01:20:07</td>\n",
       "    </tr>\n",
       "    <tr>\n",
       "      <th>9</th>\n",
       "      <td>Muravlenko</td>\n",
       "      <td>63.7898</td>\n",
       "      <td>74.5230</td>\n",
       "      <td>-15.14</td>\n",
       "      <td>84</td>\n",
       "      <td>73</td>\n",
       "      <td>11.43</td>\n",
       "      <td>RU</td>\n",
       "      <td>2021-01-08 01:20:07</td>\n",
       "    </tr>\n",
       "  </tbody>\n",
       "</table>\n",
       "</div>"
      ],
      "text/plain": [
       "             City      Lat       Lng  Max Temp  Humidity  Cloudiness  \\\n",
       "0         Mataura -46.1927  168.8643     60.01        72          66   \n",
       "1           Bilma  18.6853   12.9164     72.79        20           0   \n",
       "2       Invermere  50.5167 -116.0354     25.00        88          28   \n",
       "3           Minot  48.2325 -101.2963     33.80        75          90   \n",
       "4      Kaitangata -46.2817  169.8464     57.99        64          49   \n",
       "5           Ammon  43.4696 -111.9666     30.99        93          90   \n",
       "6  Gornopravdinsk  60.0500   69.9000     -5.22        90         100   \n",
       "7         Qaanaaq  77.4840  -69.3632    -13.38        72         100   \n",
       "8    Norman Wells  65.2820 -126.8329     -7.60        84           1   \n",
       "9      Muravlenko  63.7898   74.5230    -15.14        84          73   \n",
       "\n",
       "   Wind Speed Country                 Date  \n",
       "0       11.01      NZ  2021-01-08 01:20:05  \n",
       "1        5.88      NE  2021-01-08 01:20:05  \n",
       "2        1.34      CA  2021-01-08 01:20:05  \n",
       "3        3.44      US  2021-01-08 01:15:38  \n",
       "4        8.99      NZ  2021-01-08 01:20:05  \n",
       "5        5.75      US  2021-01-08 01:20:06  \n",
       "6        8.46      RU  2021-01-08 01:20:07  \n",
       "7        8.97      GL  2021-01-08 01:20:07  \n",
       "8        5.75      CA  2021-01-08 01:20:07  \n",
       "9       11.43      RU  2021-01-08 01:20:07  "
      ]
     },
     "execution_count": 29,
     "metadata": {},
     "output_type": "execute_result"
    }
   ],
   "source": [
    "# 6.2.7 Create a DataFrame of City Data Weather and Print(city_data)\n",
    "city_data_df = pd.DataFrame(city_data)\n",
    "city_data_df.head(10)"
   ]
  },
  {
   "cell_type": "code",
   "execution_count": 30,
   "metadata": {},
   "outputs": [
    {
     "data": {
      "text/plain": [
       "44"
      ]
     },
     "execution_count": 30,
     "metadata": {},
     "output_type": "execute_result"
    }
   ],
   "source": [
    "# Lenght of City Data dictionary\n",
    "len(city_data)"
   ]
  },
  {
   "cell_type": "code",
   "execution_count": 31,
   "metadata": {},
   "outputs": [
    {
     "data": {
      "text/html": [
       "<div>\n",
       "<style scoped>\n",
       "    .dataframe tbody tr th:only-of-type {\n",
       "        vertical-align: middle;\n",
       "    }\n",
       "\n",
       "    .dataframe tbody tr th {\n",
       "        vertical-align: top;\n",
       "    }\n",
       "\n",
       "    .dataframe thead th {\n",
       "        text-align: right;\n",
       "    }\n",
       "</style>\n",
       "<table border=\"1\" class=\"dataframe\">\n",
       "  <thead>\n",
       "    <tr style=\"text-align: right;\">\n",
       "      <th></th>\n",
       "      <th>City</th>\n",
       "      <th>Lat</th>\n",
       "      <th>Lng</th>\n",
       "      <th>Max Temp</th>\n",
       "      <th>Humidity</th>\n",
       "      <th>Cloudiness</th>\n",
       "      <th>Wind Speed</th>\n",
       "      <th>Country</th>\n",
       "      <th>Date</th>\n",
       "    </tr>\n",
       "  </thead>\n",
       "  <tbody>\n",
       "    <tr>\n",
       "      <th>0</th>\n",
       "      <td>Mataura</td>\n",
       "      <td>-46.1927</td>\n",
       "      <td>168.8643</td>\n",
       "      <td>60.01</td>\n",
       "      <td>72</td>\n",
       "      <td>66</td>\n",
       "      <td>11.01</td>\n",
       "      <td>NZ</td>\n",
       "      <td>2021-01-08 01:20:05</td>\n",
       "    </tr>\n",
       "    <tr>\n",
       "      <th>1</th>\n",
       "      <td>Bilma</td>\n",
       "      <td>18.6853</td>\n",
       "      <td>12.9164</td>\n",
       "      <td>72.79</td>\n",
       "      <td>20</td>\n",
       "      <td>0</td>\n",
       "      <td>5.88</td>\n",
       "      <td>NE</td>\n",
       "      <td>2021-01-08 01:20:05</td>\n",
       "    </tr>\n",
       "    <tr>\n",
       "      <th>2</th>\n",
       "      <td>Invermere</td>\n",
       "      <td>50.5167</td>\n",
       "      <td>-116.0354</td>\n",
       "      <td>25.00</td>\n",
       "      <td>88</td>\n",
       "      <td>28</td>\n",
       "      <td>1.34</td>\n",
       "      <td>CA</td>\n",
       "      <td>2021-01-08 01:20:05</td>\n",
       "    </tr>\n",
       "    <tr>\n",
       "      <th>3</th>\n",
       "      <td>Minot</td>\n",
       "      <td>48.2325</td>\n",
       "      <td>-101.2963</td>\n",
       "      <td>33.80</td>\n",
       "      <td>75</td>\n",
       "      <td>90</td>\n",
       "      <td>3.44</td>\n",
       "      <td>US</td>\n",
       "      <td>2021-01-08 01:15:38</td>\n",
       "    </tr>\n",
       "    <tr>\n",
       "      <th>4</th>\n",
       "      <td>Kaitangata</td>\n",
       "      <td>-46.2817</td>\n",
       "      <td>169.8464</td>\n",
       "      <td>57.99</td>\n",
       "      <td>64</td>\n",
       "      <td>49</td>\n",
       "      <td>8.99</td>\n",
       "      <td>NZ</td>\n",
       "      <td>2021-01-08 01:20:05</td>\n",
       "    </tr>\n",
       "  </tbody>\n",
       "</table>\n",
       "</div>"
      ],
      "text/plain": [
       "         City      Lat       Lng  Max Temp  Humidity  Cloudiness  Wind Speed  \\\n",
       "0     Mataura -46.1927  168.8643     60.01        72          66       11.01   \n",
       "1       Bilma  18.6853   12.9164     72.79        20           0        5.88   \n",
       "2   Invermere  50.5167 -116.0354     25.00        88          28        1.34   \n",
       "3       Minot  48.2325 -101.2963     33.80        75          90        3.44   \n",
       "4  Kaitangata -46.2817  169.8464     57.99        64          49        8.99   \n",
       "\n",
       "  Country                 Date  \n",
       "0      NZ  2021-01-08 01:20:05  \n",
       "1      NE  2021-01-08 01:20:05  \n",
       "2      CA  2021-01-08 01:20:05  \n",
       "3      US  2021-01-08 01:15:38  \n",
       "4      NZ  2021-01-08 01:20:05  "
      ]
     },
     "execution_count": 31,
     "metadata": {},
     "output_type": "execute_result"
    }
   ],
   "source": [
    "# Convert the array of dictionaries to a Pandas DataFrame.\n",
    "city_data_df = pd.DataFrame(city_data)\n",
    "city_data_df.head()"
   ]
  },
  {
   "cell_type": "code",
   "execution_count": 32,
   "metadata": {},
   "outputs": [
    {
     "data": {
      "text/html": [
       "<div>\n",
       "<style scoped>\n",
       "    .dataframe tbody tr th:only-of-type {\n",
       "        vertical-align: middle;\n",
       "    }\n",
       "\n",
       "    .dataframe tbody tr th {\n",
       "        vertical-align: top;\n",
       "    }\n",
       "\n",
       "    .dataframe thead th {\n",
       "        text-align: right;\n",
       "    }\n",
       "</style>\n",
       "<table border=\"1\" class=\"dataframe\">\n",
       "  <thead>\n",
       "    <tr style=\"text-align: right;\">\n",
       "      <th></th>\n",
       "      <th>City</th>\n",
       "      <th>Country</th>\n",
       "      <th>Date</th>\n",
       "      <th>Lat</th>\n",
       "      <th>Lng</th>\n",
       "      <th>Max Temp</th>\n",
       "      <th>Humidity</th>\n",
       "      <th>Cloudiness</th>\n",
       "      <th>Wind Speed</th>\n",
       "    </tr>\n",
       "  </thead>\n",
       "  <tbody>\n",
       "    <tr>\n",
       "      <th>0</th>\n",
       "      <td>Mataura</td>\n",
       "      <td>NZ</td>\n",
       "      <td>2021-01-08 01:20:05</td>\n",
       "      <td>-46.1927</td>\n",
       "      <td>168.8643</td>\n",
       "      <td>60.01</td>\n",
       "      <td>72</td>\n",
       "      <td>66</td>\n",
       "      <td>11.01</td>\n",
       "    </tr>\n",
       "    <tr>\n",
       "      <th>1</th>\n",
       "      <td>Bilma</td>\n",
       "      <td>NE</td>\n",
       "      <td>2021-01-08 01:20:05</td>\n",
       "      <td>18.6853</td>\n",
       "      <td>12.9164</td>\n",
       "      <td>72.79</td>\n",
       "      <td>20</td>\n",
       "      <td>0</td>\n",
       "      <td>5.88</td>\n",
       "    </tr>\n",
       "    <tr>\n",
       "      <th>2</th>\n",
       "      <td>Invermere</td>\n",
       "      <td>CA</td>\n",
       "      <td>2021-01-08 01:20:05</td>\n",
       "      <td>50.5167</td>\n",
       "      <td>-116.0354</td>\n",
       "      <td>25.00</td>\n",
       "      <td>88</td>\n",
       "      <td>28</td>\n",
       "      <td>1.34</td>\n",
       "    </tr>\n",
       "    <tr>\n",
       "      <th>3</th>\n",
       "      <td>Minot</td>\n",
       "      <td>US</td>\n",
       "      <td>2021-01-08 01:15:38</td>\n",
       "      <td>48.2325</td>\n",
       "      <td>-101.2963</td>\n",
       "      <td>33.80</td>\n",
       "      <td>75</td>\n",
       "      <td>90</td>\n",
       "      <td>3.44</td>\n",
       "    </tr>\n",
       "    <tr>\n",
       "      <th>4</th>\n",
       "      <td>Kaitangata</td>\n",
       "      <td>NZ</td>\n",
       "      <td>2021-01-08 01:20:05</td>\n",
       "      <td>-46.2817</td>\n",
       "      <td>169.8464</td>\n",
       "      <td>57.99</td>\n",
       "      <td>64</td>\n",
       "      <td>49</td>\n",
       "      <td>8.99</td>\n",
       "    </tr>\n",
       "  </tbody>\n",
       "</table>\n",
       "</div>"
      ],
      "text/plain": [
       "         City Country                 Date      Lat       Lng  Max Temp  \\\n",
       "0     Mataura      NZ  2021-01-08 01:20:05 -46.1927  168.8643     60.01   \n",
       "1       Bilma      NE  2021-01-08 01:20:05  18.6853   12.9164     72.79   \n",
       "2   Invermere      CA  2021-01-08 01:20:05  50.5167 -116.0354     25.00   \n",
       "3       Minot      US  2021-01-08 01:15:38  48.2325 -101.2963     33.80   \n",
       "4  Kaitangata      NZ  2021-01-08 01:20:05 -46.2817  169.8464     57.99   \n",
       "\n",
       "   Humidity  Cloudiness  Wind Speed  \n",
       "0        72          66       11.01  \n",
       "1        20           0        5.88  \n",
       "2        88          28        1.34  \n",
       "3        75          90        3.44  \n",
       "4        64          49        8.99  "
      ]
     },
     "execution_count": 32,
     "metadata": {},
     "output_type": "execute_result"
    }
   ],
   "source": [
    "# 6.2.7 Reorder columns to a new array\n",
    "city_data_df=city_data_df[['City', 'Country', 'Date', 'Lat', 'Lng', 'Max Temp', 'Humidity', 'Cloudiness', 'Wind Speed']]\n",
    "city_data_df.head()"
   ]
  },
  {
   "cell_type": "code",
   "execution_count": 33,
   "metadata": {},
   "outputs": [],
   "source": [
    "# 6.2.7 we'll create an output file to save the DataFrame as a CSV in a new folder for that file.\n",
    "# Create the output file (CSV).\n",
    "output_data_file = \"weather_data/cities.csv\"\n",
    "# Export the City_Data into a CSV.\n",
    "city_data_df.to_csv(output_data_file, index_label=\"City_ID\")"
   ]
  },
  {
   "cell_type": "code",
   "execution_count": 56,
   "metadata": {},
   "outputs": [
    {
     "data": {
      "text/plain": [
       "<Figure size 432x288 with 0 Axes>"
      ]
     },
     "metadata": {},
     "output_type": "display_data"
    },
    {
     "data": {
      "image/png": "[encoded data removed]",
      "text/plain": [
       "<Figure size 432x288 with 1 Axes>"
      ]
     },
     "metadata": {
      "needs_background": "light"
     },
     "output_type": "display_data"
    }
   ],
   "source": [
    "# Extract relevant fields from the DataFrame for plotting.\n",
    "lats = city_data_df[\"Lat\"]\n",
    "max_temps = city_data_df[\"Max Temp\"]\n",
    "humidity = city_data_df[\"Humidity\"]\n",
    "cloudiness = city_data_df[\"Cloudiness\"]\n",
    "wind_speed = city_data_df[\"Wind Speed\"]\n",
    "# Import the time module.\n",
    "import time\n",
    "# Get today's date in seconds.\n",
    "today = time.time()\n",
    "today\n",
    "\n",
    "# Build the scatter plot for latitude(lats) vs. max temperature (max_temps).\n",
    "def myScatter(x,y,title,ylabel):\n",
    "    \n",
    "    plt.scatter(x,\n",
    "            y,\n",
    "            edgecolor=\"black\", linewidths=1, marker=\"o\",\n",
    "            alpha=0.8, label=\"Cities\")\n",
    "\n",
    "    # Incorporate the other graph properties.\n",
    "    plt.title(title + time.strftime(\"%x\"), fontsize = 12, fontweight = \"bold\")\n",
    "    plt.ylabel(ylabel)\n",
    "    plt.xlabel(\"Latitude\")\n",
    "    plt.grid(True)\n",
    "\n",
    "# Save the figure.\n",
    "plt.savefig(\"weather_data/Fig1.png\")\n",
    "\n",
    "# Show plot.\n",
    "plt.show()\n",
    "\n",
    "myScatter(max_temps,lats,f\"City Latitude vs. Max Temperature \",\"Max Temperature (F)\")"
   ]
  },
  {
   "cell_type": "code",
   "execution_count": 57,
   "metadata": {},
   "outputs": [
    {
     "data": {
      "image/png": "[encoded data removed]",
      "text/plain": [
       "<Figure size 432x288 with 1 Axes>"
      ]
     },
     "metadata": {
      "needs_background": "light"
     },
     "output_type": "display_data"
    }
   ],
   "source": [
    "# Build the scatter plots for latitude vs. humidity.\n",
    "plt.scatter(lats,\n",
    "            humidity,\n",
    "            edgecolor=\"black\", linewidths=1, marker=\"o\",\n",
    "            alpha=0.8, label=\"Cities\")\n",
    "\n",
    "# Incorporate the other graph properties.\n",
    "plt.title(f\"City Latitude vs. Humidity \"+ time.strftime(\"%x\"))\n",
    "plt.ylabel(\"Humidity (%)\")\n",
    "plt.xlabel(\"Latitude\")\n",
    "plt.grid(True)\n",
    "# Save the figure.\n",
    "plt.savefig(\"weather_data/Fig2.png\")\n",
    "# Show plot.\n",
    "plt.show()"
   ]
  },
  {
   "cell_type": "code",
   "execution_count": 58,
   "metadata": {},
   "outputs": [
    {
     "data": {
      "image/png": "[encoded data removed]",
      "text/plain": [
       "<Figure size 432x288 with 1 Axes>"
      ]
     },
     "metadata": {
      "needs_background": "light"
     },
     "output_type": "display_data"
    }
   ],
   "source": [
    "# Build the scatter plots for latitude vs. humidity.\n",
    "myScatter(lats,humidity,f\"City Latitude vs. Humidity \",\"Humidity\")"
   ]
  },
  {
   "cell_type": "code",
   "execution_count": 59,
   "metadata": {},
   "outputs": [
    {
     "data": {
      "image/png": "[encoded data removed]",
      "text/plain": [
       "<Figure size 432x288 with 1 Axes>"
      ]
     },
     "metadata": {
      "needs_background": "light"
     },
     "output_type": "display_data"
    }
   ],
   "source": [
    "# Build the scatter plots for latitude vs. cloudiness.\n",
    "plt.scatter(lats,\n",
    "            cloudiness,\n",
    "            edgecolor=\"black\", linewidths=1, marker=\"o\",\n",
    "            alpha=0.8, label=\"Cities\")\n",
    "\n",
    "# Incorporate the other graph properties.\n",
    "plt.title(f\"City Latitude vs. Cloudiness (%) \"+ time.strftime(\"%x\"))\n",
    "plt.ylabel(\"Cloudiness (%)\")\n",
    "plt.xlabel(\"Latitude\")\n",
    "plt.grid(True)\n",
    "# Save the figure.\n",
    "plt.savefig(\"weather_data/Fig3.png\")\n",
    "#Show plot.\n",
    "plt.show()"
   ]
  },
  {
   "cell_type": "code",
   "execution_count": 60,
   "metadata": {},
   "outputs": [
    {
     "data": {
      "image/png": "[encoded data removed]",
      "text/plain": [
       "<Figure size 432x288 with 1 Axes>"
      ]
     },
     "metadata": {
      "needs_background": "light"
     },
     "output_type": "display_data"
    }
   ],
   "source": [
    "# 6.3.4 Lattitude vs. Cloudiness\n",
    "myScatter(lats,cloudiness,f\"City Latitude vs. Cloudiness (%) \",\"Cloudiness (%)\")"
   ]
  },
  {
   "cell_type": "code",
   "execution_count": 61,
   "metadata": {},
   "outputs": [
    {
     "data": {
      "image/png": "[encoded data removed]",
      "text/plain": [
       "<Figure size 432x288 with 1 Axes>"
      ]
     },
     "metadata": {
      "needs_background": "light"
     },
     "output_type": "display_data"
    }
   ],
   "source": [
    "# Build the scatter plots for latitude vs. wind speed.\n",
    "plt.scatter(lats,\n",
    "            wind_speed,\n",
    "            edgecolor=\"black\", linewidths=1, marker=\"o\",\n",
    "            alpha=0.8, label=\"Cities\")\n",
    "\n",
    "# Incorporate the other graph properties.\n",
    "plt.title(f\"City Latitude vs. Wind Speed \"+ time.strftime(\"%x\"))\n",
    "plt.ylabel(\"Wind Speed (mph)\")\n",
    "plt.xlabel(\"Latitude\")\n",
    "plt.grid(True)\n",
    "#Save the figure.\n",
    "plt.savefig(\"weather_data/Fig4.png\")\n",
    "# Show plot.\n",
    "plt.show()"
   ]
  },
  {
   "cell_type": "code",
   "execution_count": 62,
   "metadata": {
    "scrolled": true
   },
   "outputs": [
    {
     "data": {
      "image/png": "[encoded data removed]",
      "text/plain": [
       "<Figure size 432x288 with 1 Axes>"
      ]
     },
     "metadata": {
      "needs_background": "light"
     },
     "output_type": "display_data"
    }
   ],
   "source": [
    "# 6.3.4 Lattitude vs. Wind Speed\n",
    "myScatter(lats,wind_speed,f\"City Latitude vs. Wind Speed \",\"Wind Speed (mph)\")"
   ]
  },
  {
   "cell_type": "code",
   "execution_count": 63,
   "metadata": {},
   "outputs": [
    {
     "name": "stdout",
     "output_type": "stream",
     "text": [
      "y = -0.45x + 92.94\n",
      "The p-value is: 0.011\n",
      "The std_error is: 0.137\n"
     ]
    }
   ],
   "source": [
    "# Import linear regression from the SciPy stats module.\n",
    "from scipy.stats import linregress\n",
    "import matplotlib.pyplot as plt\n",
    "\n",
    "# Create an equal number of latitudes and temperatures.\n",
    "lats = [42.5, 43.9, 8.1, 36.8, 79.9, 69.1, 25.7, 15.3, 12.7, 64.5]\n",
    "temps = [80.5, 75.3, 90.9, 90.0, 40.4, 62.3, 85.4, 79.6, 72.5, 72.0]\n",
    "\n",
    "# Perform linear regression.\n",
    "(slope, intercept, r_value, p_value, std_err) = linregress(lats, temps)\n",
    "\n",
    "# Get the equation of the line.\n",
    "line_eq = \"y = \" + str(round(slope,2)) + \"x + \" + str(round(intercept,2))\n",
    "print(line_eq)\n",
    "print(f\"The p-value is: {p_value:.3f}\")\n",
    "print(f\"The std_error is: {std_err:.3f}\")"
   ]
  },
  {
   "cell_type": "code",
   "execution_count": 64,
   "metadata": {},
   "outputs": [],
   "source": [
    "regress_values = [(lat * slope + intercept) for lat in lats]"
   ]
  },
  {
   "cell_type": "code",
   "execution_count": 66,
   "metadata": {},
   "outputs": [
    {
     "data": {
      "image/png": "[encoded data removed]",
      "text/plain": [
       "<Figure size 432x288 with 1 Axes>"
      ]
     },
     "metadata": {
      "needs_background": "light"
     },
     "output_type": "display_data"
    }
   ],
   "source": [
    "# 6.4.1 Import Matplotlib.\n",
    "import matplotlib.pyplot as plt\n",
    "# Create a scatter plot of the x and y values.\n",
    "plt.scatter(lats,temps)\n",
    "# Plot the regression line with the x-values and the y coordinates based on the intercept and slope.\n",
    "plt.plot(lats,regress_values,\"r\")\n",
    "# Annotate the text for the line equation and add its coordinates.\n",
    "plt.annotate(line_eq, (10,40), fontsize=15, color=\"red\")\n",
    "plt.xlabel('Latitude')\n",
    "plt.ylabel('Temp')\n",
    "plt.show()"
   ]
  },
  {
   "cell_type": "code",
   "execution_count": 44,
   "metadata": {},
   "outputs": [
    {
     "data": {
      "text/plain": [
       "City                     Hermanus\n",
       "Country                        ZA\n",
       "Date          2021-01-08 01:20:08\n",
       "Lat                      -34.4187\n",
       "Lng                       19.2345\n",
       "Max Temp                       68\n",
       "Humidity                       77\n",
       "Cloudiness                     21\n",
       "Wind Speed                   9.37\n",
       "Name: 13, dtype: object"
      ]
     },
     "execution_count": 44,
     "metadata": {},
     "output_type": "execute_result"
    }
   ],
   "source": [
    "# index13 = city_data_df.loc[13]. Data from row 13\n",
    "index13 = city_data_df.loc[13]\n",
    "index13"
   ]
  },
  {
   "cell_type": "code",
   "execution_count": 45,
   "metadata": {},
   "outputs": [
    {
     "data": {
      "text/plain": [
       "0     False\n",
       "1      True\n",
       "2      True\n",
       "3      True\n",
       "4     False\n",
       "5      True\n",
       "6      True\n",
       "7      True\n",
       "8      True\n",
       "9      True\n",
       "10    False\n",
       "11     True\n",
       "12    False\n",
       "13    False\n",
       "14     True\n",
       "15    False\n",
       "16    False\n",
       "17     True\n",
       "18     True\n",
       "19     True\n",
       "20    False\n",
       "21    False\n",
       "22     True\n",
       "23     True\n",
       "24    False\n",
       "25     True\n",
       "26     True\n",
       "27    False\n",
       "28     True\n",
       "29    False\n",
       "30    False\n",
       "31    False\n",
       "32     True\n",
       "33     True\n",
       "34     True\n",
       "35     True\n",
       "36    False\n",
       "37    False\n",
       "38     True\n",
       "39     True\n",
       "40     True\n",
       "41     True\n",
       "42     True\n",
       "43     True\n",
       "Name: Lat, dtype: bool"
      ]
     },
     "execution_count": 45,
     "metadata": {},
     "output_type": "execute_result"
    }
   ],
   "source": [
    "# DataFrame based on all Northern Hemisphere lattitudes\n",
    "city_data_df[\"Lat\"] >= 0"
   ]
  },
  {
   "cell_type": "code",
   "execution_count": 46,
   "metadata": {},
   "outputs": [
    {
     "data": {
      "text/html": [
       "<div>\n",
       "<style scoped>\n",
       "    .dataframe tbody tr th:only-of-type {\n",
       "        vertical-align: middle;\n",
       "    }\n",
       "\n",
       "    .dataframe tbody tr th {\n",
       "        vertical-align: top;\n",
       "    }\n",
       "\n",
       "    .dataframe thead th {\n",
       "        text-align: right;\n",
       "    }\n",
       "</style>\n",
       "<table border=\"1\" class=\"dataframe\">\n",
       "  <thead>\n",
       "    <tr style=\"text-align: right;\">\n",
       "      <th></th>\n",
       "      <th>City</th>\n",
       "      <th>Country</th>\n",
       "      <th>Date</th>\n",
       "      <th>Lat</th>\n",
       "      <th>Lng</th>\n",
       "      <th>Max Temp</th>\n",
       "      <th>Humidity</th>\n",
       "      <th>Cloudiness</th>\n",
       "      <th>Wind Speed</th>\n",
       "    </tr>\n",
       "  </thead>\n",
       "  <tbody>\n",
       "    <tr>\n",
       "      <th>1</th>\n",
       "      <td>Bilma</td>\n",
       "      <td>NE</td>\n",
       "      <td>2021-01-08 01:20:05</td>\n",
       "      <td>18.6853</td>\n",
       "      <td>12.9164</td>\n",
       "      <td>72.79</td>\n",
       "      <td>20</td>\n",
       "      <td>0</td>\n",
       "      <td>5.88</td>\n",
       "    </tr>\n",
       "    <tr>\n",
       "      <th>2</th>\n",
       "      <td>Invermere</td>\n",
       "      <td>CA</td>\n",
       "      <td>2021-01-08 01:20:05</td>\n",
       "      <td>50.5167</td>\n",
       "      <td>-116.0354</td>\n",
       "      <td>25.00</td>\n",
       "      <td>88</td>\n",
       "      <td>28</td>\n",
       "      <td>1.34</td>\n",
       "    </tr>\n",
       "    <tr>\n",
       "      <th>3</th>\n",
       "      <td>Minot</td>\n",
       "      <td>US</td>\n",
       "      <td>2021-01-08 01:15:38</td>\n",
       "      <td>48.2325</td>\n",
       "      <td>-101.2963</td>\n",
       "      <td>33.80</td>\n",
       "      <td>75</td>\n",
       "      <td>90</td>\n",
       "      <td>3.44</td>\n",
       "    </tr>\n",
       "    <tr>\n",
       "      <th>5</th>\n",
       "      <td>Ammon</td>\n",
       "      <td>US</td>\n",
       "      <td>2021-01-08 01:20:06</td>\n",
       "      <td>43.4696</td>\n",
       "      <td>-111.9666</td>\n",
       "      <td>30.99</td>\n",
       "      <td>93</td>\n",
       "      <td>90</td>\n",
       "      <td>5.75</td>\n",
       "    </tr>\n",
       "    <tr>\n",
       "      <th>6</th>\n",
       "      <td>Gornopravdinsk</td>\n",
       "      <td>RU</td>\n",
       "      <td>2021-01-08 01:20:07</td>\n",
       "      <td>60.0500</td>\n",
       "      <td>69.9000</td>\n",
       "      <td>-5.22</td>\n",
       "      <td>90</td>\n",
       "      <td>100</td>\n",
       "      <td>8.46</td>\n",
       "    </tr>\n",
       "  </tbody>\n",
       "</table>\n",
       "</div>"
      ],
      "text/plain": [
       "             City Country                 Date      Lat       Lng  Max Temp  \\\n",
       "1           Bilma      NE  2021-01-08 01:20:05  18.6853   12.9164     72.79   \n",
       "2       Invermere      CA  2021-01-08 01:20:05  50.5167 -116.0354     25.00   \n",
       "3           Minot      US  2021-01-08 01:15:38  48.2325 -101.2963     33.80   \n",
       "5           Ammon      US  2021-01-08 01:20:06  43.4696 -111.9666     30.99   \n",
       "6  Gornopravdinsk      RU  2021-01-08 01:20:07  60.0500   69.9000     -5.22   \n",
       "\n",
       "   Humidity  Cloudiness  Wind Speed  \n",
       "1        20           0        5.88  \n",
       "2        88          28        1.34  \n",
       "3        75          90        3.44  \n",
       "5        93          90        5.75  \n",
       "6        90         100        8.46  "
      ]
     },
     "execution_count": 46,
     "metadata": {},
     "output_type": "execute_result"
    }
   ],
   "source": [
    "# First 5 rows\n",
    "city_data_df.loc[(city_data_df[\"Lat\"] >= 0)].head()"
   ]
  },
  {
   "cell_type": "code",
   "execution_count": 69,
   "metadata": {},
   "outputs": [],
   "source": [
    "# 6.4.2 Import linregress\n",
    "from scipy.stats import linregress\n",
    "\n",
    "# Create a function to create perform linear regression on the weather data\n",
    "# and plot a regression line and the equation with the data.\n",
    "def plot_linear_regression(x_values, y_values, title, y_label, text_coordinates):\n",
    "\n",
    "    # Run regression on hemisphere weather data.\n",
    "    (slope, intercept, r_value, p_value, std_err) = linregress(x_values, y_values)\n",
    "\n",
    "    # Calculate the regression line \"y values\" from the slope and intercept.\n",
    "    regress_values = x_values * slope + intercept\n",
    "    # Get the equation of the line.\n",
    "    line_eq = \"y = \" + str(round(slope,2)) + \"x + \" + str(round(intercept,2))\n",
    "    # Create a scatter plot and plot the regression line.\n",
    "    plt.scatter(x_values,y_values)\n",
    "    plt.plot(x_values,regress_values,\"r\")\n",
    "    # Annotate the text for the line equation.\n",
    "    plt.annotate(line_eq, text_coordinates, fontsize=15, color=\"red\")\n",
    "    plt.xlabel('Latitude')\n",
    "    plt.ylabel(y_label)\n",
    "    plt.title(title)\n",
    "    plt.show()"
   ]
  },
  {
   "cell_type": "code",
   "execution_count": 70,
   "metadata": {},
   "outputs": [],
   "source": [
    "# Create Northern and Southern Hemispheres' DataFrames\n",
    "northern_hemi_df = city_data_df.loc[(city_data_df[\"Lat\"] >= 0)]\n",
    "southern_hemi_df = city_data_df.loc[(city_data_df[\"Lat\"] < 0)]"
   ]
  },
  {
   "cell_type": "code",
   "execution_count": 71,
   "metadata": {},
   "outputs": [
    {
     "data": {
      "image/png": "[encoded data removed]",
      "text/plain": [
       "<Figure size 432x288 with 1 Axes>"
      ]
     },
     "metadata": {
      "needs_background": "light"
     },
     "output_type": "display_data"
    }
   ],
   "source": [
    "# 6.4.2 Import linregress\n",
    "from scipy.stats import linregress\n",
    "# Import Matplotlib.\n",
    "import matplotlib.pyplot as plt\n",
    "\n",
    "# Linear regression on the Northern Hemisphere\n",
    "x_values = northern_hemi_df[\"Lat\"]\n",
    "y_values = northern_hemi_df[\"Max Temp\"]\n",
    "\n",
    "# Call the function.\n",
    "plot_linear_regression(x_values, y_values, \"Linear Regression on the Northern Hemisphere \\nfor Maximum Temperature\", \"Max Temp (F)\", (10, 32))"
   ]
  },
  {
   "cell_type": "code",
   "execution_count": 79,
   "metadata": {},
   "outputs": [
    {
     "data": {
      "image/png": "[encoded data removed]",
      "text/plain": [
       "<Figure size 432x288 with 1 Axes>"
      ]
     },
     "metadata": {
      "needs_background": "light"
     },
     "output_type": "display_data"
    }
   ],
   "source": [
    "# 6.4.2 Import linregress\n",
    "from scipy.stats import linregress\n",
    "# Import Matplotlib.\n",
    "import matplotlib.pyplot as plt\n",
    "\n",
    "# Linear regression on the Northern Hemisphere\n",
    "x_values = southern_hemi_df[\"Lat\"]\n",
    "y_values = southern_hemi_df[\"Max Temp\"]\n",
    "\n",
    "# Call the function.\n",
    "plot_linear_regression(x_values, y_values,\n",
    "                       'Linear Regression on the Southern Hemisphere \\n for Maximum Temperature', 'Max Temp',(-30,60))"
   ]
  },
  {
   "cell_type": "code",
   "execution_count": 78,
   "metadata": {},
   "outputs": [
    {
     "data": {
      "image/png": "[encoded data removed]",
      "text/plain": [
       "<Figure size 432x288 with 1 Axes>"
      ]
     },
     "metadata": {
      "needs_background": "light"
     },
     "output_type": "display_data"
    }
   ],
   "source": [
    "# 6.4.3 Linear regression on the Northern Hemisphere\n",
    "x_values = northern_hemi_df[\"Lat\"]\n",
    "y_values = northern_hemi_df[\"Humidity\"]\n",
    "# Call the function.\n",
    "plot_linear_regression(x_values, y_values,\n",
    "                       'Linear Regression on the Northern Hemisphere\\n for % Humidity', '% Humidity',(20,30))"
   ]
  },
  {
   "cell_type": "code",
   "execution_count": 76,
   "metadata": {},
   "outputs": [
    {
     "data": {
      "image/png": "[encoded data removed]",
      "text/plain": [
       "<Figure size 432x288 with 1 Axes>"
      ]
     },
     "metadata": {
      "needs_background": "light"
     },
     "output_type": "display_data"
    }
   ],
   "source": [
    "# 6.4.3 Linear regression on the Southern Hemisphere\n",
    "x_values = southern_hemi_df[\"Lat\"]\n",
    "y_values = southern_hemi_df[\"Humidity\"]\n",
    "# Call the function.\n",
    "plot_linear_regression(x_values, y_values,\n",
    "                       'Linear Regression on the Southern Hemisphere \\n for % Humidity', '% Humidity',(-30,50))"
   ]
  },
  {
   "cell_type": "code",
   "execution_count": 81,
   "metadata": {},
   "outputs": [
    {
     "data": {
      "image/png": "[encoded data removed]",
      "text/plain": [
       "<Figure size 432x288 with 1 Axes>"
      ]
     },
     "metadata": {
      "needs_background": "light"
     },
     "output_type": "display_data"
    }
   ],
   "source": [
    "# 6.4.4 Linear regression on the Southern Hemisphere\n",
    "x_values = northern_hemi_df[\"Lat\"]\n",
    "y_values = northern_hemi_df[\"Cloudiness\"]\n",
    "# Call the function.\n",
    "plot_linear_regression(x_values, y_values,\n",
    "                       'Linear Regression on the Southern Hemisphere \\nfor % Cloudiness', '% Cloudiness',(20,20))"
   ]
  },
  {
   "cell_type": "code",
   "execution_count": 82,
   "metadata": {},
   "outputs": [
    {
     "data": {
      "image/png": "[encoded data removed]",
      "text/plain": [
       "<Figure size 432x288 with 1 Axes>"
      ]
     },
     "metadata": {
      "needs_background": "light"
     },
     "output_type": "display_data"
    }
   ],
   "source": [
    "# 6.4.4 Linear regression on the Southern Hemisphere\n",
    "x_values = southern_hemi_df[\"Lat\"]\n",
    "y_values = southern_hemi_df[\"Cloudiness\"]\n",
    "# Call the function.\n",
    "plot_linear_regression(x_values, y_values,\n",
    "                       'Linear Regression on the Southern Hemisphere \\nfor % Cloudiness', '% Cloudiness',(-40,20))"
   ]
  },
  {
   "cell_type": "code",
   "execution_count": 83,
   "metadata": {},
   "outputs": [
    {
     "data": {
      "image/png": "[encoded data removed]",
      "text/plain": [
       "<Figure size 432x288 with 1 Axes>"
      ]
     },
     "metadata": {
      "needs_background": "light"
     },
     "output_type": "display_data"
    }
   ],
   "source": [
    "# 6.4.5 Linear regression on the Northern Hemisphere\n",
    "x_values = northern_hemi_df[\"Lat\"]\n",
    "y_values = northern_hemi_df[\"Wind Speed\"]\n",
    "# Call the function.\n",
    "plot_linear_regression(x_values, y_values,\n",
    "                       'Linear Regression on the Northern Hemisphere \\nfor Wind Speed','Wind Speed',(40,30))"
   ]
  },
  {
   "cell_type": "code",
   "execution_count": null,
   "metadata": {},
   "outputs": [],
   "source": []
  }
 ],
 "metadata": {
  "kernelspec": {
   "display_name": "PythonData",
   "language": "python",
   "name": "pythondata"
  },
  "language_info": {
   "codemirror_mode": {
    "name": "ipython",
    "version": 3
   },
   "file_extension": ".py",
   "mimetype": "text/x-python",
   "name": "python",
   "nbconvert_exporter": "python",
   "pygments_lexer": "ipython3",
   "version": "3.8.5"
  }
 },
 "nbformat": 4,
 "nbformat_minor": 4
}
